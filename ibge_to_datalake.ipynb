{
 "cells": [
  {
   "cell_type": "code",
   "execution_count": null,
   "metadata": {},
   "outputs": [],
   "source": [
    "#python -m pip install requests\n",
    "import requests\n",
    "from bs4 import BeautifulSoup\n",
    "import pandas as pd"
   ]
  },
  {
   "cell_type": "code",
   "execution_count": null,
   "metadata": {},
   "outputs": [],
   "source": [
    "def scrap_state_info(state: str) -> dict:\n",
    "\n",
    "\n",
    "    state_url = f\"https://www.ibge.gov.br/cidades-e-estados/{state}.html\"\n",
    "    page = requests.get(state_url)\n",
    "\n",
    "    soup = BeautifulSoup(page.content, 'html.parser')\n",
    "    indicadores = soup.select('.indicador')\n",
    "\n",
    "    state_dict = {\n",
    "        ind.select('.ind-label')[0].text: ind.select('.ind-value')[0].text\n",
    "        for ind in indicadores\n",
    "    }\n",
    "\n",
    "    state_dict['Estado'] = state\n",
    "    return state_dict\n"
   ]
  },
  {
   "cell_type": "code",
   "execution_count": null,
   "metadata": {},
   "outputs": [],
   "source": [
    "states = ['AC', 'AL', 'AP', 'AM', 'BA', 'CE', 'DF', 'GO', 'MA', 'MT', 'MS', 'MG', \n",
    "'PA', 'PB', 'PR', 'co', 'PI', 'RJ', 'RN', 'RS', 'RO', 'RR', 'SC', 'SP', 'SE', 'TO']\n",
    "\n",
    "data_states = [scrap_state_info(states) for state in states]"
   ]
  },
  {
   "cell_type": "code",
   "execution_count": null,
   "metadata": {},
   "outputs": [],
   "source": [
    "df = pd.DataFrame(data_states)\n",
    "\n",
    "df_copy = df.copy()"
   ]
  },
  {
   "cell_type": "code",
   "execution_count": null,
   "metadata": {},
   "outputs": [],
   "source": [
    "df_copy  = df_copy.replace({\n",
    "    \"\\.\": \"\",\n",
    "    \",\":\".\",\n",
    "    \"\\[\\d+\\]\": \"\",\n",
    "    \" hab/km²\": \"\",\n",
    "    \" km²\": \"\",\n",
    "    \" pessoas\": \"\",\n",
    "    \" matrículas\": \"\",\n",
    "    \"R\\$.*\": \"\",\n",
    "    \" veículos\": \"\"\n",
    "}, regex = True)\n",
    "\n",
    "#df_copy.head()"
   ]
  },
  {
   "cell_type": "code",
   "execution_count": null,
   "metadata": {},
   "outputs": [],
   "source": [
    "df_copy.to_csv('file1.csv')"
   ]
  },
  {
   "cell_type": "code",
   "execution_count": null,
   "metadata": {},
   "outputs": [],
   "source": [
    "#pip install --upgrade google-api-python-client google-auth-httplib2 google-auth-oauthlib\n",
    "#pip install pandas\n",
    "#python -m pip install requests\n",
    "#pip install google-colab"
   ]
  },
  {
   "cell_type": "code",
   "execution_count": null,
   "metadata": {},
   "outputs": [],
   "source": [
    "def initialize_storage_account(storage_account_name, storage_account_key):\n",
    "    \n",
    "    try:  \n",
    "        global service_client\n",
    "\n",
    "        service_client = DataLakeServiceClient(account_url=\"{}://{}.dfs.core.windows.net\".format(\n",
    "            \"https\", storage_account_name), credential=storage_account_key)\n",
    "    \n",
    "    except Exception as e:\n",
    "        print(e)"
   ]
  },
  {
   "cell_type": "code",
   "execution_count": null,
   "metadata": {},
   "outputs": [],
   "source": [
    "#pip install azure-storage-file-datalake\n",
    "#link exemplo https://docs.microsoft.com/pt-br/azure/storage/blobs/data-lake-storage-directory-file-acl-python\n",
    "\n",
    "import os, uuid, sys\n",
    "from azure.storage.filedatalake import DataLakeServiceClient\n",
    "from azure.core._match_conditions import MatchConditions\n",
    "from azure.storage.filedatalake._models import ContentSettings"
   ]
  },
  {
   "cell_type": "code",
   "execution_count": null,
   "metadata": {},
   "outputs": [],
   "source": [
    "storage = 'storagedatalakeaulas'\n",
    "key = f'BNoJepcr9xaTE1TR5jFHQ7ow3pOkcqqlQU5tEvFyWVapf8Kl7kx+Fy/G5O9kRe2NmQiRuz8UTCD++AStffNpEw=='"
   ]
  },
  {
   "cell_type": "code",
   "execution_count": null,
   "metadata": {},
   "outputs": [],
   "source": [
    "initialize_storage_account(storage, key)"
   ]
  },
  {
   "cell_type": "code",
   "execution_count": null,
   "metadata": {},
   "outputs": [],
   "source": [
    "\"\"\"def create_file_system():\n",
    "    try:\n",
    "        global file_system_client\n",
    "\n",
    "        file_system_client = service_client.create_file_system(file_system=\"my-file-system\")\n",
    "    \n",
    "    except Exception as e:\n",
    "        print(e)\"\"\""
   ]
  },
  {
   "cell_type": "code",
   "execution_count": 65,
   "metadata": {},
   "outputs": [],
   "source": [
    "def upload_file_to_directory():\n",
    "    try:\n",
    "\n",
    "        file_system_client = service_client.get_file_system_client(file_system=\"my-file-system\")\n",
    "\n",
    "        file_client = file_system_client.create_file(\"uploaded-file.csv\")\n",
    "\n",
    "        local_file = open(\"./arquivo.csv\",'r', encoding=\"utf8\")\n",
    "\n",
    "        file_contents = local_file.read()\n",
    "\n",
    "        file_client.upload_data(file_contents, overwrite=True)\n",
    "\n",
    "    except Exception as e:\n",
    "      print(e)"
   ]
  },
  {
   "cell_type": "code",
   "execution_count": 66,
   "metadata": {},
   "outputs": [],
   "source": [
    "upload_file_to_directory()"
   ]
  },
  {
   "cell_type": "code",
   "execution_count": null,
   "metadata": {},
   "outputs": [],
   "source": [
    "create_file_system()"
   ]
  },
  {
   "cell_type": "code",
   "execution_count": null,
   "metadata": {},
   "outputs": [],
   "source": [
    "create_file_system()"
   ]
  }
 ],
 "metadata": {
  "kernelspec": {
   "display_name": "Python 3.9.13 64-bit",
   "language": "python",
   "name": "python3"
  },
  "language_info": {
   "codemirror_mode": {
    "name": "ipython",
    "version": 3
   },
   "file_extension": ".py",
   "mimetype": "text/x-python",
   "name": "python",
   "nbconvert_exporter": "python",
   "pygments_lexer": "ipython3",
   "version": "3.9.13"
  },
  "orig_nbformat": 4,
  "vscode": {
   "interpreter": {
    "hash": "5bd8ae328046729ed92bd7795ff06d640aa6e2b9cc135d81db7760942d42ded9"
   }
  }
 },
 "nbformat": 4,
 "nbformat_minor": 2
}
